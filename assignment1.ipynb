{
 "cells": [
  {
   "cell_type": "code",
   "execution_count": null,
   "id": "3e7c1c70-cdaa-492a-9b5d-2e68507efaf7",
   "metadata": {},
   "outputs": [],
   "source": [
    "\"\"\"\n",
    "1)python is developed by Guido van Rossum.\n",
    "2)python supports Object-oriented programming and structured programming.\n",
    "3)yes,python is case sensitive while dealing with identifier.\n",
    "4).py extension\n",
    "5)python is interpreted.\n",
    "6) a module, a function body, and a class definition\n",
    "7)#\n",
    "8)sys.version\n",
    "9)lambda\n",
    "10)pip-preferred installer programme\n",
    "11)print(),type(),pow(),abs()\n",
    "12)79\n",
    "13)i-Data science\n",
    "ii-Scientific and mathematical computing\n",
    "iii-Finance and trading\n",
    "iv-Web development\n",
    "14)Memory management in Python involves a private heap containing all Python objects and data structures. The management of this private heap is ensured internally by the Python memory manager.\n",
    "15)\n",
    "\"\"\""
   ]
  }
 ],
 "metadata": {
  "kernelspec": {
   "display_name": "Python 3 (ipykernel)",
   "language": "python",
   "name": "python3"
  },
  "language_info": {
   "codemirror_mode": {
    "name": "ipython",
    "version": 3
   },
   "file_extension": ".py",
   "mimetype": "text/x-python",
   "name": "python",
   "nbconvert_exporter": "python",
   "pygments_lexer": "ipython3",
   "version": "3.10.8"
  }
 },
 "nbformat": 4,
 "nbformat_minor": 5
}
